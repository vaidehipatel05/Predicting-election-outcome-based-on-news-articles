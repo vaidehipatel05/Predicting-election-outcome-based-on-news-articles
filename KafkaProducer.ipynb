{
 "cells": [
  {
   "cell_type": "code",
   "execution_count": null,
   "id": "b8b89930",
   "metadata": {},
   "outputs": [],
   "source": [
    "pip install kafka-python"
   ]
  },
  {
   "cell_type": "code",
   "execution_count": 1,
   "id": "25a5812d",
   "metadata": {},
   "outputs": [],
   "source": [
    "import pandas as pd\n",
    "from kafka import KafkaProducer, KafkaConsumer\n",
    "from time import sleep\n",
    "from json import dumps\n",
    "import json"
   ]
  },
  {
   "cell_type": "code",
   "execution_count": 2,
   "id": "78ad794a",
   "metadata": {},
   "outputs": [],
   "source": [
    " producer = KafkaProducer(bootstrap_servers=['localhost:9092'], \n",
    "                         value_serializer=lambda x: \n",
    "                         dumps(x).encode('utf-8'))"
   ]
  },
  {
   "cell_type": "code",
   "execution_count": 4,
   "id": "0163f02a",
   "metadata": {},
   "outputs": [
    {
     "data": {
      "text/plain": [
       "<kafka.producer.future.FutureRecordMetadata at 0x11ffe1e10>"
      ]
     },
     "execution_count": 4,
     "metadata": {},
     "output_type": "execute_result"
    }
   ],
   "source": [
    "producer.send('demo_testing2',value=\"{'name' : 'Yas'}\")"
   ]
  },
  {
   "cell_type": "code",
   "execution_count": 5,
   "id": "01fbb49b",
   "metadata": {},
   "outputs": [],
   "source": [
    "import requests\n",
    "#url = 'https://api.currentsapi.services/v1/latest-news'\n",
    "url = 'https://api.currentsapi.services/v1/latest-news?category=politics'\n",
    "# API key for authentication\n",
    "api_key = 'iqypaoz95R0yVAaRAixjuGb3eGoPlge5_I8mLFHeMTzl2EeK'\n",
    "\n",
    "# Request headers\n",
    "headers = {\n",
    "    'Authorization': api_key\n",
    "}\n",
    "\n",
    "# Fetch news articles from the Currents API\n",
    "response = requests.get(url, headers=headers)\n",
    "data = response.json()"
   ]
  },
  {
   "cell_type": "code",
   "execution_count": 6,
   "id": "f3c8ca7f",
   "metadata": {},
   "outputs": [],
   "source": [
    "articles = data.get('news', [])"
   ]
  },
  {
   "cell_type": "code",
   "execution_count": 7,
   "id": "9f60b2bf",
   "metadata": {},
   "outputs": [],
   "source": [
    "df = pd.DataFrame(articles)"
   ]
  },
  {
   "cell_type": "code",
   "execution_count": 8,
   "id": "3f739045",
   "metadata": {},
   "outputs": [
    {
     "data": {
      "text/html": [
       "<div>\n",
       "<style scoped>\n",
       "    .dataframe tbody tr th:only-of-type {\n",
       "        vertical-align: middle;\n",
       "    }\n",
       "\n",
       "    .dataframe tbody tr th {\n",
       "        vertical-align: top;\n",
       "    }\n",
       "\n",
       "    .dataframe thead th {\n",
       "        text-align: right;\n",
       "    }\n",
       "</style>\n",
       "<table border=\"1\" class=\"dataframe\">\n",
       "  <thead>\n",
       "    <tr style=\"text-align: right;\">\n",
       "      <th></th>\n",
       "      <th>id</th>\n",
       "      <th>title</th>\n",
       "      <th>description</th>\n",
       "      <th>url</th>\n",
       "      <th>author</th>\n",
       "      <th>image</th>\n",
       "      <th>language</th>\n",
       "      <th>category</th>\n",
       "      <th>published</th>\n",
       "    </tr>\n",
       "  </thead>\n",
       "  <tbody>\n",
       "    <tr>\n",
       "      <th>0</th>\n",
       "      <td>22e0335c-5c6a-44fe-a152-0dbb9d909f69</td>\n",
       "      <td>Utah Republicans to select nominee for Mitt Ro...</td>\n",
       "      <td>The Utah Republican Party is set to select a n...</td>\n",
       "      <td>https://abcnews.go.com/Politics/wireStory/utah...</td>\n",
       "      <td>ABC News</td>\n",
       "      <td>https://i.abcnewsfe.com/a/7a30b76b-dd4a-49c5-a...</td>\n",
       "      <td>en</td>\n",
       "      <td>[politics, world]</td>\n",
       "      <td>2024-04-26 06:04:54 +0000</td>\n",
       "    </tr>\n",
       "    <tr>\n",
       "      <th>1</th>\n",
       "      <td>6d586144-c288-4b4d-9a04-6e544ac9c01a</td>\n",
       "      <td>Charges against Trump's 2020 'fake electors' a...</td>\n",
       "      <td>An Arizona grand jury’s indictment of 18 peopl...</td>\n",
       "      <td>https://abcnews.go.com/Politics/wireStory/char...</td>\n",
       "      <td>ABC News</td>\n",
       "      <td>https://i.abcnewsfe.com/a/ef9d28a6-a435-4494-a...</td>\n",
       "      <td>en</td>\n",
       "      <td>[politics, world]</td>\n",
       "      <td>2024-04-26 05:42:24 +0000</td>\n",
       "    </tr>\n",
       "    <tr>\n",
       "      <th>2</th>\n",
       "      <td>765a976b-66ca-4d58-9ec5-8d627251016c</td>\n",
       "      <td>Trump's lawyers will grill ex-tabloid publishe...</td>\n",
       "      <td>Defense lawyers in Donald Trump’s hush money c...</td>\n",
       "      <td>https://abcnews.go.com/Politics/wireStory/trum...</td>\n",
       "      <td>ABC News</td>\n",
       "      <td>https://i.abcnewsfe.com/a/a4fb10d8-0dbf-492d-8...</td>\n",
       "      <td>en</td>\n",
       "      <td>[politics, world]</td>\n",
       "      <td>2024-04-26 05:42:24 +0000</td>\n",
       "    </tr>\n",
       "    <tr>\n",
       "      <th>3</th>\n",
       "      <td>830a74d2-7af2-45cf-b721-bce3bd30f7ba</td>\n",
       "      <td>Rooting for Trump to fail has made his stock s...</td>\n",
       "      <td>NEW YORK -- Rooting for Donald Trump to fail h...</td>\n",
       "      <td>https://abcnews.go.com/Politics/wireStory/root...</td>\n",
       "      <td>Abc News</td>\n",
       "      <td>https://i.abcnewsfe.com/a/bb4fb676-a4e1-47c5-8...</td>\n",
       "      <td>en</td>\n",
       "      <td>[politics, world]</td>\n",
       "      <td>2024-04-26 05:34:30 +0000</td>\n",
       "    </tr>\n",
       "    <tr>\n",
       "      <th>4</th>\n",
       "      <td>516d64c1-3d1a-41dc-8630-807d0d2e8c85</td>\n",
       "      <td>Trading Trump: Truth Social's first month of t...</td>\n",
       "      <td>With Donald Trump facing dozens of federal cri...</td>\n",
       "      <td>https://abcnews.go.com/Politics/wireStory/trad...</td>\n",
       "      <td>ABC News</td>\n",
       "      <td>https://i.abcnewsfe.com/a/92b650fd-3e11-4310-b...</td>\n",
       "      <td>en</td>\n",
       "      <td>[politics, world]</td>\n",
       "      <td>2024-04-26 05:34:26 +0000</td>\n",
       "    </tr>\n",
       "  </tbody>\n",
       "</table>\n",
       "</div>"
      ],
      "text/plain": [
       "                                     id  \\\n",
       "0  22e0335c-5c6a-44fe-a152-0dbb9d909f69   \n",
       "1  6d586144-c288-4b4d-9a04-6e544ac9c01a   \n",
       "2  765a976b-66ca-4d58-9ec5-8d627251016c   \n",
       "3  830a74d2-7af2-45cf-b721-bce3bd30f7ba   \n",
       "4  516d64c1-3d1a-41dc-8630-807d0d2e8c85   \n",
       "\n",
       "                                               title  \\\n",
       "0  Utah Republicans to select nominee for Mitt Ro...   \n",
       "1  Charges against Trump's 2020 'fake electors' a...   \n",
       "2  Trump's lawyers will grill ex-tabloid publishe...   \n",
       "3  Rooting for Trump to fail has made his stock s...   \n",
       "4  Trading Trump: Truth Social's first month of t...   \n",
       "\n",
       "                                         description  \\\n",
       "0  The Utah Republican Party is set to select a n...   \n",
       "1  An Arizona grand jury’s indictment of 18 peopl...   \n",
       "2  Defense lawyers in Donald Trump’s hush money c...   \n",
       "3  NEW YORK -- Rooting for Donald Trump to fail h...   \n",
       "4  With Donald Trump facing dozens of federal cri...   \n",
       "\n",
       "                                                 url    author  \\\n",
       "0  https://abcnews.go.com/Politics/wireStory/utah...  ABC News   \n",
       "1  https://abcnews.go.com/Politics/wireStory/char...  ABC News   \n",
       "2  https://abcnews.go.com/Politics/wireStory/trum...  ABC News   \n",
       "3  https://abcnews.go.com/Politics/wireStory/root...  Abc News   \n",
       "4  https://abcnews.go.com/Politics/wireStory/trad...  ABC News   \n",
       "\n",
       "                                               image language  \\\n",
       "0  https://i.abcnewsfe.com/a/7a30b76b-dd4a-49c5-a...       en   \n",
       "1  https://i.abcnewsfe.com/a/ef9d28a6-a435-4494-a...       en   \n",
       "2  https://i.abcnewsfe.com/a/a4fb10d8-0dbf-492d-8...       en   \n",
       "3  https://i.abcnewsfe.com/a/bb4fb676-a4e1-47c5-8...       en   \n",
       "4  https://i.abcnewsfe.com/a/92b650fd-3e11-4310-b...       en   \n",
       "\n",
       "            category                  published  \n",
       "0  [politics, world]  2024-04-26 06:04:54 +0000  \n",
       "1  [politics, world]  2024-04-26 05:42:24 +0000  \n",
       "2  [politics, world]  2024-04-26 05:42:24 +0000  \n",
       "3  [politics, world]  2024-04-26 05:34:30 +0000  \n",
       "4  [politics, world]  2024-04-26 05:34:26 +0000  "
      ]
     },
     "execution_count": 8,
     "metadata": {},
     "output_type": "execute_result"
    }
   ],
   "source": [
    "df.head()"
   ]
  },
  {
   "cell_type": "code",
   "execution_count": 9,
   "id": "1ba815f0",
   "metadata": {},
   "outputs": [
    {
     "data": {
      "text/plain": [
       "[{'id': '0f499e05-4054-4a81-92a6-781d8aa87ae3',\n",
       "  'title': \"The Latest | Hearing on claims of gag order violations in Trump's hush money trial rescheduled\",\n",
       "  'description': 'A change in the court schedule means Donald Trump won’t be forced off the campaign trail next week to attend a hearing in his hush money criminal trial',\n",
       "  'url': 'https://abcnews.go.com/Politics/wireStory/latest-trumps-hush-money-trial-set-resume-3rd-109615264',\n",
       "  'author': 'ABC News',\n",
       "  'image': 'https://i.abcnewsfe.com/a/86c59738-a2ca-46ea-bb68-65c4b058a42c/wirestory_73ec7fdc224c4cb2f2507cbd5a3d4094_16x9.jpg?w=1600',\n",
       "  'language': 'en',\n",
       "  'category': ['politics', 'world'],\n",
       "  'published': '2024-04-26 01:10:34 +0000'},\n",
       " {'id': '9ad53326-d2e0-4d8b-98cb-5a219dc96a62',\n",
       "  'title': \"Cruz Condemns Biden's, AOC's Responses to College Protests\",\n",
       "  'description': 'Sen. Ted Cruz, R-Texas, criticized the responses of President Joe Biden and Rep. Alexandria Ocasio-Cortez, D-N.Y., to protests that have occurred on numerous college campuses, such as Yale University, Columbia University, and New York University, over the past week.',\n",
       "  'url': 'https://www.newsmax.com/newsfront/ted-cruz-joe-biden-aoc/2024/04/25/id/1162488',\n",
       "  'author': 'newsmax',\n",
       "  'image': 'None',\n",
       "  'language': 'en',\n",
       "  'category': ['politics', 'world'],\n",
       "  'published': '2024-04-26 01:20:50 +0000'},\n",
       " {'id': 'ace349ba-7b0d-4342-9a31-dec82927fd3b',\n",
       "  'title': 'GDP Growth Misses Estimate by 64 Percent, Recession Fears Real',\n",
       "  'description': 'The latest GDP numbers released Thursday sent shock waves among economist and traders with the data indicating the economy is seriously slowing.',\n",
       "  'url': 'https://www.newsmax.com/newsfront/gdp-recession-federal-reserve/2024/04/25/id/1162489',\n",
       "  'author': 'newsmax',\n",
       "  'image': 'None',\n",
       "  'language': 'en',\n",
       "  'category': ['politics', 'world'],\n",
       "  'published': '2024-04-26 01:58:33 +0000'},\n",
       " {'id': 'be4239ae-46e0-4b30-85c8-bab1046cae29',\n",
       "  'title': 'Portugal marks 50 years since coup brought democracy',\n",
       "  'description': \"Tens of thousands of people have celebrated 50 years since Portugal's so-called Carnation Revolution, which ended a stifling four-decade dictatorship.\",\n",
       "  'url': 'https://thewest.com.au/politics/portugal-marks-50-years-since-coup-brought-democracy-c-14448388',\n",
       "  'author': 'Barry Hatton',\n",
       "  'image': 'https://images.thewest.com.au/publication/C-14448388/0bae3204088fc74ab024b34787952a3430f4a56f-16x9-x0y0w1280h720.jpg?imwidth=1200',\n",
       "  'language': 'en',\n",
       "  'category': ['politics'],\n",
       "  'published': '2024-04-26 01:22:03 +0000'},\n",
       " {'id': 'd4abf605-6492-4f94-80d4-aad7ef4cd2a3',\n",
       "  'title': 'Liberals back Musk line on Australia policing internet',\n",
       "  'description': \"Opposition Leader Peter Dutton has backed Elon Musk's argument that Australia has no business policing the internet amid legal challenges and wranglings.\",\n",
       "  'url': 'https://thewest.com.au/politics/liberals-back-musk-line-on-australia-policing-internet-c-14448306',\n",
       "  'author': 'Dominic Giannini',\n",
       "  'image': 'https://images.thewest.com.au/publication/C-14448306/b4d2a398dc99e81a8e3bff432bca8d6886fc53d8-16x9-x0y0w1280h720.jpg?imwidth=1200',\n",
       "  'language': 'en',\n",
       "  'category': ['politics'],\n",
       "  'published': '2024-04-26 01:12:55 +0000'},\n",
       " {'id': '2b739049-eda2-46a6-aeb1-a635ab74ee91',\n",
       "  'title': 'US Teacher Charged With Using AI To Frame Principal With Hate Speech Clip',\n",
       "  'description': \"Thomas Claburn reports via The Register:  Baltimore police have arrested Dazhon Leslie Darien, the former athletic director of Pikesville High School (PHS), for allegedly impersonating the school's principal using AI software to make it seem as if he made racist and antisemitic remarks. Darien, of B...\",\n",
       "  'url': 'https://yro.slashdot.org/story/24/04/25/2215233/us-teacher-charged-with-using-ai-to-frame-principal-with-hate-speech-clip',\n",
       "  'author': 'help',\n",
       "  'image': 'https://a.fsdn.com/sd/topics/ai_64.png',\n",
       "  'language': 'en',\n",
       "  'category': ['politics'],\n",
       "  'published': '2024-04-26 01:56:42 +0000'},\n",
       " {'id': '4e2fb36d-8c6f-415c-b18e-2019765112f6',\n",
       "  'title': 'Zuckerberg Loses $18 Billion as Meta/Facebook Shares Fall',\n",
       "  'description': 'Tech giant CEO Mark Zuckerberg lost $18 billion in net worth Thursday after Meta ended the day down nearly 11% in the wake of the Facebook-parent forecasting higher expenses for its artificial intelligence plans.',\n",
       "  'url': 'https://www.newsmax.com/newsfront/mark-zuckerberg-meta-facebook/2024/04/25/id/1162495',\n",
       "  'author': 'newsmax',\n",
       "  'image': 'None',\n",
       "  'language': 'en',\n",
       "  'category': ['politics', 'world'],\n",
       "  'published': '2024-04-26 02:25:39 +0000'},\n",
       " {'id': '22e0335c-5c6a-44fe-a152-0dbb9d909f69',\n",
       "  'title': \"Utah Republicans to select nominee for Mitt Romney's open US Senate seat\",\n",
       "  'description': 'The Utah Republican Party is set to select a nominee in the race to replace Mitt Romney in the U.S. Senate at its annual convention',\n",
       "  'url': 'https://abcnews.go.com/Politics/wireStory/utah-republicans-select-nominee-mitt-romneys-open-us-109665550',\n",
       "  'author': 'ABC News',\n",
       "  'image': 'https://i.abcnewsfe.com/a/7a30b76b-dd4a-49c5-a7ce-b662402ed5bf/wirestory_739cded3471acc99ae9fa0f770d583c6_16x9.jpg?w=1600',\n",
       "  'language': 'en',\n",
       "  'category': ['politics', 'world'],\n",
       "  'published': '2024-04-26 06:04:54 +0000'},\n",
       " {'id': 'adfb6012-9f80-41b1-aef2-48aae20a6829',\n",
       "  'title': \"We must target the root cause of misinformation. We cannot fact check our way out of this | Samantha Floreani and Lizzie O'Shea\",\n",
       "  'description': 'One of the best tools we have to clean up this mess is already in our hands',\n",
       "  'url': 'https://www.theguardian.com/commentisfree/2024/apr/26/australia-government-misinformation-bill-social-media-x',\n",
       "  'author': 'Samantha Floreani',\n",
       "  'image': 'https://i.guim.co.uk/img/media/d2597330d8b566636a3e384a9f21c56114cbb189/0_97_2428_1457/master/2428.jpg?width=1200&height=630&quality=85&auto=format&fit=crop&overlay-align=bottom%2Cleft&overlay-width=100p&overlay-base64=L2ltZy9zdGF0aWMvb3ZlcmxheXMvdGctb3BpbmlvbnMucG5n&s=2520acb8fef287e95c4f8087e63a827e',\n",
       "  'language': 'en',\n",
       "  'category': ['politics', 'regional'],\n",
       "  'published': '2024-04-26 02:34:06 +0000'},\n",
       " {'id': 'ca135edb-9a23-4bca-a6af-24414138b3bb',\n",
       "  'title': \"GOP Applauds Texas's Response to UT Austin Protest\",\n",
       "  'description': \"Republicans from Texas cheered the state's Republican governor, Greg Abbott, and the University of Texas at Austin for their success in shutting down a pro-Palestinian protest within hours of it starting, The Washington Examiner reported.\",\n",
       "  'url': 'https://www.newsmax.com/newsfront/texas-pro-palestinian-protest/2024/04/25/id/1162496',\n",
       "  'author': 'newsmax',\n",
       "  'image': 'None',\n",
       "  'language': 'en',\n",
       "  'category': ['politics', 'world'],\n",
       "  'published': '2024-04-26 02:48:41 +0000'}]"
      ]
     },
     "execution_count": 9,
     "metadata": {},
     "output_type": "execute_result"
    }
   ],
   "source": [
    "df.sample(10).to_dict(orient=\"records\")"
   ]
  },
  {
   "cell_type": "code",
   "execution_count": 12,
   "id": "2495dd16",
   "metadata": {},
   "outputs": [
    {
     "ename": "KeyboardInterrupt",
     "evalue": "",
     "output_type": "error",
     "traceback": [
      "\u001b[0;31m---------------------------------------------------------------------------\u001b[0m",
      "\u001b[0;31mKeyboardInterrupt\u001b[0m                         Traceback (most recent call last)",
      "Cell \u001b[0;32mIn[12], line 4\u001b[0m\n\u001b[1;32m      2\u001b[0m dict_news\u001b[38;5;241m=\u001b[39mdf\u001b[38;5;241m.\u001b[39msample(\u001b[38;5;241m1\u001b[39m)\u001b[38;5;241m.\u001b[39mto_dict(orient\u001b[38;5;241m=\u001b[39m\u001b[38;5;124m\"\u001b[39m\u001b[38;5;124mrecords\u001b[39m\u001b[38;5;124m\"\u001b[39m)[\u001b[38;5;241m0\u001b[39m]\n\u001b[1;32m      3\u001b[0m producer\u001b[38;5;241m.\u001b[39msend(\u001b[38;5;124m'\u001b[39m\u001b[38;5;124mdemo_testing2\u001b[39m\u001b[38;5;124m'\u001b[39m,value\u001b[38;5;241m=\u001b[39mdict_news)\n\u001b[0;32m----> 4\u001b[0m sleep(\u001b[38;5;241m1\u001b[39m)\n",
      "\u001b[0;31mKeyboardInterrupt\u001b[0m: "
     ]
    }
   ],
   "source": [
    "while True:\n",
    "    dict_news=df.sample(1).to_dict(orient=\"records\")[0]\n",
    "    producer.send('demo_testing2',value=dict_news)\n",
    "    sleep(1)"
   ]
  },
  {
   "cell_type": "code",
   "execution_count": null,
   "id": "326dc098",
   "metadata": {},
   "outputs": [],
   "source": [
    "producer.flush()"
   ]
  },
  {
   "cell_type": "code",
   "execution_count": null,
   "id": "7675f7fc",
   "metadata": {},
   "outputs": [],
   "source": [
    "df.to_csv('articles.csv', index=False)"
   ]
  },
  {
   "cell_type": "code",
   "execution_count": 8,
   "id": "2ae1078e",
   "metadata": {},
   "outputs": [
    {
     "name": "stdout",
     "output_type": "stream",
     "text": [
      "{'status': 'ok', 'news': [{'id': '9d6fdb26-71f1-4520-817f-ff6f54736172', 'title': 'Digital Nomads On The Rise', 'description': 'The US had 17.3 million digital nomads last year - according to MBO Partners the management buyout specialists - \\xa0which is more than double the number in', 'url': 'https://www.electronicsweekly.com/blogs/mannerisms/consumer/divital-nomads-on-the-rise-2024-04/', 'author': 'David Manners', 'image': 'https://www.electronicsweekly.com/wp-content/uploads/2024/04/IMG_2944-1024x1024.jpeg', 'language': 'en', 'category': ['industry'], 'published': '2024-04-25 00:00:00 +0000'}, {'id': '5d65302c-82ba-4641-811c-f35b993a8b26', 'title': 'Formation and evolution of shale overpressure in deep Wufeng-Longmaxi Formation in southern Sichuan basin and its influence on reservoir pore characteristics', 'description': 'In the deep Longmaxi Formation shale gas reservoirs of the southern Sichuan Basin, strong overpressure is universally developed to varying degrees. However, there is currently a lack of in-depth research on the formation mechanisms, evolutionary patterns, and the controlling effects on reservoir por...', 'url': 'https://www.frontiersin.org/articles/10.3389/feart.2024.1375241', 'author': 'Jiajun Qu', 'image': 'None', 'language': 'en', 'category': ['academia'], 'published': '2024-04-25 00:00:00 +0000'}, {'id': '80e2ddba-a842-4afb-9a82-7fde50c889b1', 'title': \"Significant Earth's responses of the 2022 Tonga eruption across Taiwan from multiple sensor observations\", 'description': 'On 15 January 2022, a massive underwater volcano erupted in the Tonga region, releasing a significant amount of volcanic ash and gases into the atmosphere. The United States Geological Survey (USGS) estimated the seismic source to have a surface wave magnitude (Ms) of 5.8. This eruption was observed...', 'url': 'https://www.frontiersin.org/articles/10.3389/feart.2024.1285173', 'author': 'Juen-Shi Jiang', 'image': 'None', 'language': 'en', 'category': ['academia'], 'published': '2024-04-25 00:00:00 +0000'}, {'id': '715f3d31-4b03-4fb2-bf62-95481fa48fd6', 'title': 'BASF post slight Q1 earnings drop but beats forecast By Reuters', 'description': 'BASF post slight Q1 earnings drop but beats forecast', 'url': 'https://uk.investing.com/news/stock-market-news/basf-post-slight-q1-earnings-drop-but-beats-forecast-3453644', 'author': 'Reuters', 'image': 'https://i-invdn-com.investing.com/news/LYNXMPEB2N09U_L.jpg', 'language': 'en', 'category': ['finance', 'business'], 'published': '2024-04-25 00:00:00 +0000'}, {'id': '6f702eee-f309-4fd1-a1ba-73742e81e308', 'title': 'Adaptive evolution of antioxidase-related genes in hypoxia-tolerant mammals', 'description': 'To cope with the damage from oxidative stress caused by hypoxia, mammals have evolved a series of physiological and biochemical traits, including antioxidant ability. Although numerous research studies about the mechanisms of hypoxia evolution have been reported, the molecular mechanisms of antioxid...', 'url': 'https://www.frontiersin.org/articles/10.3389/fgene.2024.1315677', 'author': 'Yuan Mu', 'image': 'None', 'language': 'en', 'category': ['academia'], 'published': '2024-04-25 00:00:00 +0000'}, {'id': 'e84a0250-549c-4c00-b049-a7858f0a63b2', 'title': 'Causal associations of cognition, intelligence, education, health and lifestyle factors with cervical spondylosis: a mendelian randomization study', 'description': 'Background: Education, cognition, and intelligence are phenotypically and genetically related. Education has been shown to have a protective effect on the risk of developing cervical spondylosis. However, it is unclear whether cognition and intelligence have independent causal effects on cervical sp...', 'url': 'https://www.frontiersin.org/articles/10.3389/fgene.2024.1297213', 'author': 'Houqing Long', 'image': 'None', 'language': 'en', 'category': ['academia'], 'published': '2024-04-25 00:00:00 +0000'}, {'id': 'a1af3966-d2f8-41c1-b7b7-3a04887a64c5', 'title': 'Engineering CRISPR/Cas9 therapeutics for cancer precision medicine', 'description': 'The discovery of Clustered Regularly Interspaced Short Palindromic Repeats (CRISPR) and CRISPR-associated protein 9 (Cas9) technology has revolutionized field of cancer treatment. This review explores usage of CRISPR/Cas9 for editing and investigating genes involved in human carcinogenesis. It provi...', 'url': 'https://www.frontiersin.org/articles/10.3389/fgene.2024.1309175', 'author': 'Anil K. Giri', 'image': 'None', 'language': 'en', 'category': ['academia'], 'published': '2024-04-25 00:00:00 +0000'}, {'id': '846a7f20-53a8-4b94-8135-7cf074aa4a00', 'title': 'Bayesian hidden mark interaction model for detecting spatially variable genes in imaging-based spatially resolved transcriptomics data', 'description': 'Recent technology breakthroughs in spatially resolved transcriptomics (SRT) have enabled the comprehensive molecular characterization of cells whilst preserving their spatial and gene expression contexts. One of the fundamental questions in analyzing SRT data is the identification of spatially varia...', 'url': 'https://www.frontiersin.org/articles/10.3389/fgene.2024.1356709', 'author': 'Qiwei Li', 'image': 'None', 'language': 'en', 'category': ['academia'], 'published': '2024-04-25 00:00:00 +0000'}, {'id': '9e766cbb-4baf-4e85-a4d7-eded93e73e38', 'title': 'Anti-aging biopharma company raises $40 million to begin human tests', 'description': '“As people live longer, improving quality of life is paramount,” said Alex Morgan, a partner at Khosla Ventures, who chipped in to fund Rubedo’s first round of venture capital financing. “Rubedo is ta...', 'url': 'https://newatlas.com/medical/anti-aging-drug-clinical-trials/', 'author': 'Alessandro Gandolfi', 'image': 'https://assets.newatlas.com/dims4/default/4019359/2147483647/strip/true/crop/2000x1050+0+38/resize/1200x630!/quality/90/?url=http%3A%2F%2Fnewatlas-brightspot.s3.amazonaws.com%2Fef%2Fa3%2Ffdc8e21e4c14af6d1ec2489e6fcf%2Frubedo-006.jpg&na.image_optimisation=0', 'language': 'en', 'category': ['science'], 'published': '2024-04-25 00:00:00 +0000'}, {'id': 'd5691491-d6a7-4ac1-8631-9e547c536ad4', 'title': 'INTERACTIVE: The rise and fall of towns in Malaysia', 'description': 'PETALING JAYA: Younger people moving in and out of states is why many towns in Malaysia saw big jumps in population over the past 10 years.\\n\\nBased on available data, Mukim Pulai in Johor is the number...', 'url': 'https://www.thestar.com.my/news/nation/2024/04/25/interactive-the-rise-and-fall-of-towns-in-malaysia', 'author': 'Yuen Meikeng', 'image': 'https://apicms.thestar.com.my/uploads/images/2024/04/23/2657528.jpg', 'language': 'en', 'category': ['regional'], 'published': '2024-04-25 00:00:00 +0000'}, {'id': '689845ef-2e2c-4986-bce0-619128b20b79', 'title': 'RBI bars Kotak Bank from adding customers digitally', 'description': 'ET Bureau\\n\\n\\n\\n\\n\\n(You can now subscribe to our\\n\\n(You can now subscribe to our ETMarkets WhatsApp channel\\n\\nThe Reserve Bank of India ( RBI ) barred Kotak Mahindra Bank from signing up new customers throu...', 'url': 'https://m.economictimes.com/markets/stocks/news/rbi-bars-kotak-bank-fromadding-customers-digitally/articleshow/109577304.cms', 'author': 'indiatimes', 'image': 'https://img.etimg.com/thumb/msid-109573135,width-1200,height-630,imgsize-109532,overlay-etmarkets/photo.jpg', 'language': 'en', 'category': [], 'published': '2024-04-25 00:00:00 +0000'}, {'id': 'd38d1e6d-5ec7-4bec-ae7f-e442ddbdeabc', 'title': 'MG EXE181 Electric Hypercar Concept', 'description': \"MG, the classic British sports car maker, is back. The upcoming Cyberster is an electric take on the two-seat roadsters MG built its reputation on — but the company isn't stopping there. The EXE181 is an electric hypercar that pays...\", 'url': 'https://uncrate.com/mg-exe181-electric-hypercar-concept/', 'author': 'Uncrate', 'image': 'https://uncrate.com/p/2024/04/mg-exe181-1.jpg', 'language': 'en', 'category': ['lifestyle'], 'published': '2024-04-25 00:00:00 +0000'}, {'id': 'd8b64468-5ebf-4243-8ed8-fe069b4bcbf1', 'title': 'Mapping the function of MicroRNAs as a critical regulator of tumor-immune cell communication in breast cancer and potential treatment strategies', 'description': 'Among women, breast cancer ranks as the most prevalent form of cancer, and the presence of metastases significantly reduces prognosis and diminishes overall survival rates. Gaining insights into the biological mechanisms governing the conversion of cancer cells, their subsequent spread to other area...', 'url': 'https://www.frontiersin.org/articles/10.3389/fcell.2024.1390704', 'author': 'Rubaiyat Siddique Diba', 'image': 'None', 'language': 'en', 'category': ['academia'], 'published': '2024-04-25 00:00:00 +0000'}, {'id': '7c9bbafd-bd96-4340-9be8-812bf7c69fe4', 'title': 'Signaling crosstalk between tumor endothelial cells and immune cells in the microenvironment of solid tumors', 'description': 'Tumor-associated endothelial cells (TECs) are crucial mediators of immune surveillance and immune escape in the tumor microenvironment (TME). TECs driven by angiogenic growth factors form an abnormal vasculature which deploys molecular machinery to selectively promote the function and recruitment of...', 'url': 'https://www.frontiersin.org/articles/10.3389/fcell.2024.1387198', 'author': 'Edus H. Warren', 'image': 'None', 'language': 'en', 'category': ['academia'], 'published': '2024-04-25 00:00:00 +0000'}, {'id': 'eea765f4-9238-4415-8075-d8cbfd3b8920', 'title': 'These cities have the dirtiest air, new report finds', 'description': 'It’s not as simple as looking up in the sky and seeing “clean air,” so how can you really know?', 'url': 'https://www.localsyr.com/news/national/these-cities-have-the-dirtiest-air-new-report-finds/', 'author': 'Nick Jachim', 'image': 'https://www.localsyr.com/wp-content/uploads/sites/63/2024/04/645cff3a5ec205.13750198-e1713984067252.jpeg?strip=1&w=640', 'language': 'en', 'category': ['new-york', 'syracuse', 'regional'], 'published': '2024-04-25 00:00:00 +0000'}, {'id': 'eabc6768-2dfc-4876-8542-3ed78adfc083', 'title': 'Factbox-Anglo American, BHP mining operations around the world By Reuters', 'description': 'Factbox-Anglo American, BHP mining operations around the world', 'url': 'https://au.investing.com/news/stock-market-news/factboxanglo-american-bhp-mining-operations-around-the-world-3217225', 'author': 'Reuters', 'image': 'https://i-invdn-com.investing.com/news/LYNXNPEB6R0T0_L.jpg', 'language': 'en', 'category': ['regional'], 'published': '2024-04-25 00:00:00 +0000'}, {'id': '0d81c044-be5b-45c6-a006-8c4e998267fc', 'title': 'BHP to reshape copper market with Anglo bid By Reuters', 'description': 'BHP to reshape copper market with Anglo bid', 'url': 'https://www.investing.com/news/stock-market-news/bhp-to-reshape-copper-market-with-anglo-bid-3396521', 'author': 'Reuters', 'image': 'https://i-invdn-com.investing.com/news/LYNXNPEAAP0BV_L.jpg', 'language': 'en', 'category': ['regional'], 'published': '2024-04-25 00:00:00 +0000'}, {'id': '1b711962-33ab-44e4-989a-450811d8748b', 'title': 'BHP to reshape copper market with Anglo bid By Reuters', 'description': 'BHP to reshape copper market with Anglo bid', 'url': 'https://ca.investing.com/news/stock-market-news/bhp-to-reshape-copper-market-with-anglo-bid-3366834', 'author': 'Reuters', 'image': 'https://i-invdn-com.investing.com/news/LYNXNPEB660A4_L.jpg', 'language': 'en', 'category': ['finance', 'business'], 'published': '2024-04-25 00:00:00 +0000'}, {'id': '31b5c6dc-8d5f-44d3-9f14-2d410e645ce1', 'title': \"How the internet's algorithmic recommendations are flattening our culture and controlling our attention\", 'description': 'Algorithmic feeds should personalise our online experiences, but instead they are \"deadening our tastes\" and fostering a dull conformity.', 'url': 'https://www.abc.net.au/news/2024-04-25/how-social-media-algorithms-are-flattening-culture/103735868', 'author': 'ABC News', 'image': 'https://live-production.wcms.abc-cdn.net.au/b8f1e40fbb67e49a3e235058342d6879?impolicy=wcms_watermark_news&cropH=2813&cropW=5000&xPos=0&yPos=201&width=862&height=485&imformat=generic', 'language': 'en', 'category': ['general'], 'published': '2024-04-25 00:00:00 +0000'}, {'id': 'c33af9b3-5379-4abb-bf6a-983b1dfc0f0e', 'title': \"Auckland's Blues on track to make history as Super Rugby's hottest ticket: Gregor Paul\", 'description': 'OPINION: The Blues, not the Warriors, are defying the odds and on track to make history.', 'url': 'https://www.nzherald.co.nz/sport/rugby/super-rugby/aucklands-blues-on-track-to-make-history-as-super-rugbys-hottest-ticket/QXMITV5YXREOFLLQNBVFDYK5HI/', 'author': 'Gregor Paul', 'image': 'https://www.nzherald.co.nz/resizer/v2/A7DSCDJUFJB7DBFPJ4DYQEQKMA.jpg?auth=bad9bba81bbded78b9fe5142a5e7b382f8c3d328ce805d9ac5b09543a0d1079a&width=1200&height=675&quality=70&focal=889%2C344&smart=false', 'language': 'en', 'category': ['opinion'], 'published': '2024-04-25 00:00:00 +0000'}, {'id': 'ddfb3477-afbf-48a7-aa92-d67197b19667', 'title': 'BYD unveils third ultra-luxury model under Yangwang brand By Reuters', 'description': 'BYD unveils third ultra-luxury model under Yangwang brand', 'url': 'https://www.investing.com/news/stock-market-news/byd-unveils-third-ultraluxury-model-under-yangwang-brand-3396481', 'author': 'Reuters', 'image': 'https://i-invdn-com.investing.com/news/LYNXMPEB3G033_L.jpg', 'language': 'en', 'category': ['national'], 'published': '2024-04-25 00:00:00 +0000'}, {'id': 'f7dd8f0e-f949-40da-8f9f-c7e3d9c79ac5', 'title': 'BBC Proms to feature disco night and Florence + The Machine', 'description': '', 'url': 'https://www.bbc.com/news/articles/c99z19ygvy5o', 'author': 'bbc', 'image': 'https://ichef.bbci.co.uk/news/1024/branded_news/cd2b/live/8e3cec50-0219-11ef-8369-47dc4454b972.jpg', 'language': 'en', 'category': ['general'], 'published': '2024-04-24 23:59:54 +0000'}, {'id': '7330af19-6879-4b65-bb90-4a138df276df', 'title': 'Undercover Sex Sting Leads to Charges Against School Crossing Guard', 'description': 'A Queens man who worked as a school crossing guard was charged on Wednesday with attempted rape and other crimes after he tried to lure an undercover police officer he believed to be a 14-year-old gir...', 'url': 'https://www.nytimes.com/2024/04/24/nyregion/jeridore-katz-school-crossing-guard-charges.html', 'author': 'Ed Shanahan', 'image': 'https://static01.nyt.com/images/2024/04/24/nyregion/24ny-crossing-guard-01/24ny-crossing-guard-01-facebookJumbo.jpg', 'language': 'en', 'category': ['general'], 'published': '2024-04-24 23:59:46 +0000'}, {'id': '92fe2a7d-b3e5-40f0-a13d-05e53c7cc99a', 'title': 'BHP plots possible takeover of rival mining giant Anglo American', 'description': 'Mining giant BHP is weighing a possible takeover of rival Anglo American in what would be one of the biggest deals of the year.\\n\\nThe potential sale of Anglo American, which owns the world’s largest di...', 'url': 'https://www.telegraph.co.uk/business/2024/04/25/bhp-plots-takeover-of-rival-mining-giant-anglo-american/', 'author': 'Adam Mawardi', 'image': 'https://www.telegraph.co.uk/content/dam/business/2024/04/24/TELEMMGLPICT000011331662_17140004116810_trans_NvBQzQNjv4BqpVlberWd9EgFPZtcLiMQf0Rf_Wk3V23H2268P_XkPxc.jpeg?impolicy=logo-overlay', 'language': 'en', 'category': ['company', 'anglo-american'], 'published': '2024-04-24 23:59:41 +0000'}, {'id': '176659a6-24e7-475a-89d5-6afd80ad680f', 'title': 'Linda Vista man pleads not guilty to alleged sexual assault of 5-year-old girl', 'description': 'Alejandro Jose Confessor, 22, is accused of sexually assaulting a 5-year-old girl in a Linda Vista home last week, according to police ', 'url': 'https://www.sandiegouniontribune.com/news/courts/story/2024-04-24/linda-vista-man-pleads-not-guilty-to-alleged-sexual-assault-of-5-year-old-girl', 'author': 'Caleb Lunetta', 'image': 'https://ca-times.brightspotcdn.com/dims4/default/c26ca38/2147483647/strip/true/crop/1920x1008+0+36/resize/1200x630!/quality/75/?url=https%3A%2F%2Fcalifornia-times-brightspot.s3.amazonaws.com%2F18%2F87%2Fad2789124ebea11f3459aa4c4d66%2Fsdut-desktop-black.jpg', 'language': 'en', 'category': ['general'], 'published': '2024-04-24 23:59:11 +0000'}, {'id': '3cb2c185-ddb5-4035-a855-ba4dc68b3153', 'title': 'Pulse Seismic Inc. Reports Q1 2024 Results and Increases Regular Dividend', 'description': 'CALGARY, Alberta, April  24, 2024  (GLOBE NEWSWIRE) -- Pulse Seismic Inc. (TSX:PSD) (OTCQX:PLSDF) (“Pulse” or the “Company”) is pleased to report its...', 'url': 'https://www.globenewswire.com/news-release/2024/04/24/2869203/0/en/Pulse-Seismic-Inc-Reports-Q1-2024-Results-and-Increases-Regular-Dividend.html', 'author': 'Pulse Seismic Inc.', 'image': 'https://ml.globenewswire.com/Resource/Download/4a98ae31-8e1a-49c1-b4e2-7184b0efc326', 'language': 'en', 'category': ['company'], 'published': '2024-04-24 23:59:10 +0000'}, {'id': 'd714c1d6-7c6d-4a9e-842d-0246024c11e5', 'title': 'Pulse Seismic Inc. Reports Q1 2024 Results and Increases Regular Dividend', 'description': 'CALGARY, Alberta, April 24, 2024 (GLOBE NEWSWIRE) -- Pulse Seismic Inc. (TSX:PSD) (OTCQX:PLSDF) (\"Pulse\" or the \"Company\") is pleased to report its financial and operating results for the three months ended March 31, 2024. The unaudited condensed consolidated interim financial statements, accompanyi...', 'url': 'https://www.benzinga.com/pressreleases/24/04/g38420143/pulse-seismic-inc-reports-q1-2024-results-and-increases-regular-dividend', 'author': 'Globe Newswire', 'image': 'None', 'language': 'en', 'category': ['finance'], 'published': '2024-04-24 23:59:10 +0000'}, {'id': 'c4f620d1-1619-4c32-a397-3b5a3d84caa1', 'title': 'Mateta double fires Palace to win over Newcastle', 'description': 'AdvertisementAdvertisement LONDON, April 25 ― Crystal Palace made absolutely sure of Premier League safety with an impressive 2-0 home defeat of Newcastle United today with...', 'url': 'https://www.malaymail.com/news/sports/2024/04/25/mateta-double-fires-palace-to-win-over-newcastle/130681', 'author': 'Malay Mail', 'image': 'https://www.malaymail.com/malaymail/uploads/images/2024/04/25/thumbs/400x400/204793.jpg', 'language': 'en', 'category': ['sports', 'regional'], 'published': '2024-04-24 23:59:10 +0000'}, {'id': 'd423ab7e-910f-47fd-93cb-3e3bf622e7ea', 'title': 'Sizable Haley vote in Pennsylvania may signal trouble for Trump', 'description': \"Sizable Haley vote in Pennsylvania may signal trouble for Trump Former United Nations Ambassador Nikki Haley won more than 16% of the vote in Pennsylvania's Republican primary on Tuesday despite no lo...\", 'url': 'https://www.cbsnews.com/video/sizable-haley-vote-pennsylvania-may-signal-trouble-for-trump/', 'author': 'CBS News', 'image': 'https://assets1.cbsnewsstatic.com/hub/i/r/2024/04/24/ac58e1ec-4698-4d08-bc35-4c585ff3d8dd/thumbnail/1200x630/de78e529b682b69968c8d444a3bf689d/cbsn-fusion-sizable-haley-vote-pennsylvania-may-signal-trouble-for-trump-thumbnail.jpg?v=1da0267dcfd5e1d387d4678a648e733c', 'language': 'en', 'category': ['general'], 'published': '2024-04-24 23:59:00 +0000'}, {'id': '28b47405-d595-4c86-a0ba-da56a47e91dd', 'title': \"'Greater tailwind than the U.S.': Morningstar strategist likes these 7 European stocks\", 'description': '\"There could ... be a greater tailwind for European equities than those in the U.S.,\" Michael Field says. ', 'url': 'https://www.cnbc.com/2024/04/25/morningstar-likes-these-7-stocks-in-europe.html', 'author': 'Amala Balakrishner', 'image': 'https://image.cnbcfm.com/api/v1/image/107335576-1700224253337-gettyimages-1094836118-8bdade27-e8e9-47f0-9144-6947b2f332b4.jpeg?v=1710329047&w=1920&h=1080', 'language': 'en', 'category': ['business'], 'published': '2024-04-24 23:59:00 +0000'}], 'page': 1}\n"
     ]
    }
   ],
   "source": [
    "\n",
    "\n",
    "import requests\n",
    "from datetime import datetime, timedelta\n",
    "\n",
    "def get_news():\n",
    "    # Define the API URL\n",
    "    url = 'https://api.currentsapi.services/v1/search?category=Politics&start_date=2024-04-20T00%3A00%3A00%2B00%3A00&end_date=2024-04-25T00%3A00%3A00%2B00%3A00'\n",
    "\n",
    "    # Calculate the date 5 days ago\n",
    "    five_days_ago = datetime.now() - timedelta(days=5)\n",
    "    five_days_ago_str = five_days_ago.strftime('%Y-%m-%dT00:00:00+00:00')\n",
    "    today_date = datetime.now().strftime('%Y-%m-%dT00:00:00+00:00')\n",
    "\n",
    "    # Define the parameters for the API query\n",
    "    params = {\n",
    "        'category': 'politics',\n",
    "        'language': 'en',\n",
    "        'start_date': five_days_ago_str,\n",
    "        'end_date': today_date,\n",
    "        'apiKey': 'iqypaoz95R0yVAaRAixjuGb3eGoPlge5_I8mLFHeMTzl2EeK'  # Replace 'YOUR_API_KEY' with your actual API key\n",
    "    }\n",
    "\n",
    "    # Make the API request\n",
    "    response = requests.get(url, params=params)\n",
    "\n",
    "    # Check if the request was successful\n",
    "    if response.status_code == 200:\n",
    "        data = response.json()\n",
    "        return data\n",
    "    else:\n",
    "        print('Error:', response.status_code)\n",
    "        return None\n",
    "\n",
    "if __name__ == \"__main__\":\n",
    "    news_data = get_news()\n",
    "    if news_data:\n",
    "        print(news_data)  # or process data further as needed\n"
   ]
  },
  {
   "cell_type": "code",
   "execution_count": 5,
   "id": "986b8f5e",
   "metadata": {},
   "outputs": [
    {
     "data": {
      "text/plain": [
       "datetime.datetime(2024, 4, 20, 0, 18, 38, 939366)"
      ]
     },
     "execution_count": 5,
     "metadata": {},
     "output_type": "execute_result"
    }
   ],
   "source": [
    "five_days_ago"
   ]
  },
  {
   "cell_type": "code",
   "execution_count": null,
   "id": "3a14ca00",
   "metadata": {},
   "outputs": [],
   "source": [
    "datetime.now()"
   ]
  },
  {
   "cell_type": "code",
   "execution_count": null,
   "id": "c7477738",
   "metadata": {},
   "outputs": [],
   "source": [
    "previous_day"
   ]
  },
  {
   "cell_type": "code",
   "execution_count": null,
   "id": "523d85a2",
   "metadata": {},
   "outputs": [],
   "source": [
    "previous_day_str"
   ]
  },
  {
   "cell_type": "code",
   "execution_count": null,
   "id": "b11f9e54",
   "metadata": {},
   "outputs": [],
   "source": [
    "datetime.now()"
   ]
  },
  {
   "cell_type": "code",
   "execution_count": null,
   "id": "9a1c7203",
   "metadata": {},
   "outputs": [],
   "source": [
    "today_date"
   ]
  },
  {
   "cell_type": "code",
   "execution_count": null,
   "id": "7cc2f7a3",
   "metadata": {},
   "outputs": [],
   "source": [
    "response"
   ]
  },
  {
   "cell_type": "code",
   "execution_count": 7,
   "id": "adaec2ac",
   "metadata": {},
   "outputs": [
    {
     "name": "stdout",
     "output_type": "stream",
     "text": [
      "2024-04-25T00:00:00+00:00\n"
     ]
    }
   ],
   "source": [
    "from datetime import datetime\n",
    "\n",
    "# Convert the date string to datetime object\n",
    "date_string = \"April 25, 2024\"\n",
    "date_obj = datetime.strptime(date_string, \"%B %d, %Y\")\n",
    "\n",
    "# Format the datetime object in the required format\n",
    "formatted_date = date_obj.strftime(\"%Y-%m-%dT00:00:00+00:00\")\n",
    "\n",
    "print(formatted_date)\n"
   ]
  },
  {
   "cell_type": "code",
   "execution_count": 12,
   "id": "988b963a",
   "metadata": {},
   "outputs": [
    {
     "name": "stdout",
     "output_type": "stream",
     "text": [
      "Error: 401\n"
     ]
    }
   ],
   "source": []
  },
  {
   "cell_type": "code",
   "execution_count": 13,
   "id": "261f911d",
   "metadata": {},
   "outputs": [
    {
     "name": "stdout",
     "output_type": "stream",
     "text": [
      "Failed to fetch data. Status code: 401\n",
      "No data fetched.\n"
     ]
    }
   ],
   "source": [
    "import requests\n",
    "import csv\n",
    "\n",
    "def fetch_data(url, api_token):\n",
    "    headers = {\n",
    "        'Authorization': f'Token {api_token}',\n",
    "        'Content-Type': 'application/json'\n",
    "    }\n",
    "    response = requests.get(url, headers=headers)\n",
    "    if response.status_code == 200:\n",
    "        return response.json()\n",
    "    else:\n",
    "        print(f\"Failed to fetch data. Status code: {response.status_code}\")\n",
    "        return None\n",
    "\n",
    "def save_as_csv(data, filename):\n",
    "    with open(filename, 'w', newline='') as csvfile:\n",
    "        fieldnames = data[0].keys() if data else []\n",
    "        writer = csv.DictWriter(csvfile, fieldnames=fieldnames)\n",
    "        \n",
    "        writer.writeheader()\n",
    "        for row in data:\n",
    "            writer.writerow(row)\n",
    "\n",
    "if __name__ == \"__main__\":\n",
    "    url = \"https://api.currentsapi.services/v1/search?category=Politics&start_date=2024-03-20T00%3A00%3A00%2B00%3A00&end_date=2024-04-25T00%3A00%3A00%2B00%3A00\"\n",
    "    api_token = \"iqypaoz95R0yVAaRAixjuGb3eGoPlge5_I8mLFHeMTzl2EeK\"\n",
    "    filename = \"data.csv\"\n",
    "\n",
    "    fetched_data = fetch_data(url, api_token)\n",
    "    if fetched_data:\n",
    "        save_as_csv(fetched_data, filename)\n",
    "        print(f\"Data saved as {filename}\")\n",
    "    else:\n",
    "        print(\"No data fetched.\")\n"
   ]
  },
  {
   "cell_type": "code",
   "execution_count": 32,
   "id": "f97b23fc",
   "metadata": {},
   "outputs": [
    {
     "name": "stderr",
     "output_type": "stream",
     "text": [
      "24/04/26 01:19:19 WARN SparkSession: Using an existing Spark session; only runtime SQL configurations will take effect.\n"
     ]
    },
    {
     "ename": "AnalysisException",
     "evalue": "Failed to find data source: kafka. Please deploy the application as per the deployment section of Structured Streaming + Kafka Integration Guide.",
     "output_type": "error",
     "traceback": [
      "\u001b[0;31m---------------------------------------------------------------------------\u001b[0m",
      "\u001b[0;31mAnalysisException\u001b[0m                         Traceback (most recent call last)",
      "Cell \u001b[0;32mIn[32], line 22\u001b[0m\n\u001b[1;32m     14\u001b[0m \u001b[38;5;66;03m# We will keep the consumer running for 10 seconds\u001b[39;00m\n\u001b[1;32m     15\u001b[0m stop_time \u001b[38;5;241m=\u001b[39m datetime\u001b[38;5;241m.\u001b[39mnow() \u001b[38;5;241m+\u001b[39m timedelta(seconds\u001b[38;5;241m=\u001b[39m\u001b[38;5;241m10\u001b[39m)  \u001b[38;5;66;03m# 10 seconds from now\u001b[39;00m\n\u001b[1;32m     17\u001b[0m df \u001b[38;5;241m=\u001b[39m spark \\\n\u001b[1;32m     18\u001b[0m   \u001b[38;5;241m.\u001b[39mreadStream \\\n\u001b[1;32m     19\u001b[0m   \u001b[38;5;241m.\u001b[39mformat(\u001b[38;5;124m\"\u001b[39m\u001b[38;5;124mkafka\u001b[39m\u001b[38;5;124m\"\u001b[39m) \\\n\u001b[1;32m     20\u001b[0m   \u001b[38;5;241m.\u001b[39moption(\u001b[38;5;124m\"\u001b[39m\u001b[38;5;124mkafka.bootstrap.servers\u001b[39m\u001b[38;5;124m\"\u001b[39m, \u001b[38;5;124m\"\u001b[39m\u001b[38;5;124mlocalhost:9092\u001b[39m\u001b[38;5;124m\"\u001b[39m) \\\n\u001b[1;32m     21\u001b[0m   \u001b[38;5;241m.\u001b[39moption(\u001b[38;5;124m\"\u001b[39m\u001b[38;5;124msubscribe\u001b[39m\u001b[38;5;124m\"\u001b[39m, \u001b[38;5;124m\"\u001b[39m\u001b[38;5;124mdemo_testing2\u001b[39m\u001b[38;5;124m\"\u001b[39m) \\\n\u001b[0;32m---> 22\u001b[0m   \u001b[38;5;241m.\u001b[39mload()\n\u001b[1;32m     25\u001b[0m df\u001b[38;5;241m.\u001b[39mselectExpr(\u001b[38;5;124m\"\u001b[39m\u001b[38;5;124mCAST(key AS STRING)\u001b[39m\u001b[38;5;124m\"\u001b[39m, \u001b[38;5;124m\"\u001b[39m\u001b[38;5;124mCAST(value AS STRING)\u001b[39m\u001b[38;5;124m\"\u001b[39m)\n\u001b[1;32m     28\u001b[0m \u001b[38;5;66;03m# Deserialize the value from Kafka as a String for now\u001b[39;00m\n",
      "File \u001b[0;32m/opt/homebrew/anaconda3/lib/python3.11/site-packages/pyspark/sql/streaming/readwriter.py:304\u001b[0m, in \u001b[0;36mDataStreamReader.load\u001b[0;34m(self, path, format, schema, **options)\u001b[0m\n\u001b[1;32m    302\u001b[0m     \u001b[38;5;28;01mreturn\u001b[39;00m \u001b[38;5;28mself\u001b[39m\u001b[38;5;241m.\u001b[39m_df(\u001b[38;5;28mself\u001b[39m\u001b[38;5;241m.\u001b[39m_jreader\u001b[38;5;241m.\u001b[39mload(path))\n\u001b[1;32m    303\u001b[0m \u001b[38;5;28;01melse\u001b[39;00m:\n\u001b[0;32m--> 304\u001b[0m     \u001b[38;5;28;01mreturn\u001b[39;00m \u001b[38;5;28mself\u001b[39m\u001b[38;5;241m.\u001b[39m_df(\u001b[38;5;28mself\u001b[39m\u001b[38;5;241m.\u001b[39m_jreader\u001b[38;5;241m.\u001b[39mload())\n",
      "File \u001b[0;32m/opt/homebrew/anaconda3/lib/python3.11/site-packages/py4j/java_gateway.py:1322\u001b[0m, in \u001b[0;36mJavaMember.__call__\u001b[0;34m(self, *args)\u001b[0m\n\u001b[1;32m   1316\u001b[0m command \u001b[38;5;241m=\u001b[39m proto\u001b[38;5;241m.\u001b[39mCALL_COMMAND_NAME \u001b[38;5;241m+\u001b[39m\\\n\u001b[1;32m   1317\u001b[0m     \u001b[38;5;28mself\u001b[39m\u001b[38;5;241m.\u001b[39mcommand_header \u001b[38;5;241m+\u001b[39m\\\n\u001b[1;32m   1318\u001b[0m     args_command \u001b[38;5;241m+\u001b[39m\\\n\u001b[1;32m   1319\u001b[0m     proto\u001b[38;5;241m.\u001b[39mEND_COMMAND_PART\n\u001b[1;32m   1321\u001b[0m answer \u001b[38;5;241m=\u001b[39m \u001b[38;5;28mself\u001b[39m\u001b[38;5;241m.\u001b[39mgateway_client\u001b[38;5;241m.\u001b[39msend_command(command)\n\u001b[0;32m-> 1322\u001b[0m return_value \u001b[38;5;241m=\u001b[39m get_return_value(\n\u001b[1;32m   1323\u001b[0m     answer, \u001b[38;5;28mself\u001b[39m\u001b[38;5;241m.\u001b[39mgateway_client, \u001b[38;5;28mself\u001b[39m\u001b[38;5;241m.\u001b[39mtarget_id, \u001b[38;5;28mself\u001b[39m\u001b[38;5;241m.\u001b[39mname)\n\u001b[1;32m   1325\u001b[0m \u001b[38;5;28;01mfor\u001b[39;00m temp_arg \u001b[38;5;129;01min\u001b[39;00m temp_args:\n\u001b[1;32m   1326\u001b[0m     \u001b[38;5;28;01mif\u001b[39;00m \u001b[38;5;28mhasattr\u001b[39m(temp_arg, \u001b[38;5;124m\"\u001b[39m\u001b[38;5;124m_detach\u001b[39m\u001b[38;5;124m\"\u001b[39m):\n",
      "File \u001b[0;32m/opt/homebrew/anaconda3/lib/python3.11/site-packages/pyspark/errors/exceptions/captured.py:185\u001b[0m, in \u001b[0;36mcapture_sql_exception.<locals>.deco\u001b[0;34m(*a, **kw)\u001b[0m\n\u001b[1;32m    181\u001b[0m converted \u001b[38;5;241m=\u001b[39m convert_exception(e\u001b[38;5;241m.\u001b[39mjava_exception)\n\u001b[1;32m    182\u001b[0m \u001b[38;5;28;01mif\u001b[39;00m \u001b[38;5;129;01mnot\u001b[39;00m \u001b[38;5;28misinstance\u001b[39m(converted, UnknownException):\n\u001b[1;32m    183\u001b[0m     \u001b[38;5;66;03m# Hide where the exception came from that shows a non-Pythonic\u001b[39;00m\n\u001b[1;32m    184\u001b[0m     \u001b[38;5;66;03m# JVM exception message.\u001b[39;00m\n\u001b[0;32m--> 185\u001b[0m     \u001b[38;5;28;01mraise\u001b[39;00m converted \u001b[38;5;28;01mfrom\u001b[39;00m \u001b[38;5;28;01mNone\u001b[39;00m\n\u001b[1;32m    186\u001b[0m \u001b[38;5;28;01melse\u001b[39;00m:\n\u001b[1;32m    187\u001b[0m     \u001b[38;5;28;01mraise\u001b[39;00m\n",
      "\u001b[0;31mAnalysisException\u001b[0m: Failed to find data source: kafka. Please deploy the application as per the deployment section of Structured Streaming + Kafka Integration Guide."
     ]
    }
   ],
   "source": [
    "from pyspark.sql import SparkSession\n",
    "from datetime import datetime, timedelta\n",
    "import time\n",
    "#import spark\n",
    "import os\n",
    "os.environ['PYSPARK_SUBMIT_ARGS'] = '--packages org.apache.spark:spark-streaming-kafka-0-10_2.12:3.5.1,org.apache.spark:spark-sql-kafka-0-10_2.12:3.5.1 pyspark-shell'\n",
    "\n",
    "\n",
    "spark = SparkSession.builder \\\n",
    "    .appName(\"KafkaStreamReader\") \\\n",
    "    .config(\"spark.jars.packages\", \"org.apache.spark:spark-sql-kafka-0-10_2.12:3.5.1\")\\\n",
    "    .getOrCreate()\n",
    "\n",
    "# We will keep the consumer running for 10 seconds\n",
    "stop_time = datetime.now() + timedelta(seconds=10)  # 10 seconds from now\n",
    "\n",
    "df = spark \\\n",
    "  .readStream \\\n",
    "  .format(\"kafka\") \\\n",
    "  .option(\"kafka.bootstrap.servers\", \"localhost:9092\") \\\n",
    "  .option(\"subscribe\", \"demo_testing2\") \\\n",
    "  .load()\n",
    "\n",
    "\n",
    "df.selectExpr(\"CAST(key AS STRING)\", \"CAST(value AS STRING)\")\n",
    "\n",
    "\n",
    "# Deserialize the value from Kafka as a String for now\n",
    "deserialized_df = df.selectExpr(\"CAST(value AS STRING)\")\n",
    "\n",
    "# Query Kafka and wait 10sec before stopping pyspark\n",
    "query = deserialized_df.writeStream.outputMode(\"append\").format(\"console\").start()\n",
    "time.sleep(10)\n",
    "query.stop()"
   ]
  },
  {
   "cell_type": "code",
   "execution_count": null,
   "id": "2f4180ab",
   "metadata": {},
   "outputs": [],
   "source": []
  }
 ],
 "metadata": {
  "kernelspec": {
   "display_name": "Python 3 (ipykernel)",
   "language": "python",
   "name": "python3"
  },
  "language_info": {
   "codemirror_mode": {
    "name": "ipython",
    "version": 3
   },
   "file_extension": ".py",
   "mimetype": "text/x-python",
   "name": "python",
   "nbconvert_exporter": "python",
   "pygments_lexer": "ipython3",
   "version": "3.11.4"
  }
 },
 "nbformat": 4,
 "nbformat_minor": 5
}
