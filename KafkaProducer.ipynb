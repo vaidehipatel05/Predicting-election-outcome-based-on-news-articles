{
 "cells": [
  {
   "cell_type": "code",
   "execution_count": 1,
   "id": "afb893d2",
   "metadata": {},
   "outputs": [
    {
     "name": "stdout",
     "output_type": "stream",
     "text": [
      "Collecting kafka-python\n",
      "  Obtaining dependency information for kafka-python from https://files.pythonhosted.org/packages/75/68/dcb0db055309f680ab2931a3eeb22d865604b638acf8c914bedf4c1a0c8c/kafka_python-2.0.2-py2.py3-none-any.whl.metadata\n",
      "  Downloading kafka_python-2.0.2-py2.py3-none-any.whl.metadata (7.8 kB)\n",
      "Using cached kafka_python-2.0.2-py2.py3-none-any.whl (246 kB)\n",
      "Installing collected packages: kafka-python\n",
      "Successfully installed kafka-python-2.0.2\n",
      "Note: you may need to restart the kernel to use updated packages.\n"
     ]
    }
   ],
   "source": [
    "pip install kafka-python"
   ]
  },
  {
   "cell_type": "code",
   "execution_count": 33,
   "id": "4acf2a07",
   "metadata": {},
   "outputs": [],
   "source": [
    "import pandas as pd\n",
    "from kafka import KafkaProducer, KafkaConsumer\n",
    "from time import sleep\n",
    "from json import dumps\n",
    "import json"
   ]
  },
  {
   "cell_type": "code",
   "execution_count": 35,
   "id": "6583dd2e",
   "metadata": {},
   "outputs": [],
   "source": [
    " producer = KafkaProducer(bootstrap_servers=['54.151.6.125:9092'], \n",
    "                         value_serializer=lambda x: \n",
    "                         dumps(x).encode('utf-8'))"
   ]
  },
  {
   "cell_type": "code",
   "execution_count": 36,
   "id": "ed40564d",
   "metadata": {},
   "outputs": [
    {
     "data": {
      "text/plain": [
       "<kafka.producer.future.FutureRecordMetadata at 0x143417590>"
      ]
     },
     "execution_count": 36,
     "metadata": {},
     "output_type": "execute_result"
    }
   ],
   "source": [
    "producer.send('demo_testing2',value=\"{'name' : 'VaidehiP'}\")"
   ]
  },
  {
   "cell_type": "code",
   "execution_count": 8,
   "id": "d07a3aec",
   "metadata": {},
   "outputs": [],
   "source": [
    "import requests\n",
    "url = 'https://api.currentsapi.services/v1/latest-news'\n",
    "\n",
    "# API key for authentication\n",
    "api_key = 'iqypaoz95R0yVAaRAixjuGb3eGoPlge5_I8mLFHeMTzl2EeK'\n",
    "\n",
    "# Request headers\n",
    "headers = {\n",
    "    'Authorization': api_key\n",
    "}\n",
    "\n",
    "# Fetch news articles from the Currents API\n",
    "response = requests.get(url, headers=headers)\n",
    "data = response.json()"
   ]
  },
  {
   "cell_type": "code",
   "execution_count": 10,
   "id": "8f515f18",
   "metadata": {},
   "outputs": [],
   "source": [
    "articles = data.get('news', [])"
   ]
  },
  {
   "cell_type": "code",
   "execution_count": 13,
   "id": "93ab5758",
   "metadata": {},
   "outputs": [],
   "source": [
    "df = pd.DataFrame(articles)"
   ]
  },
  {
   "cell_type": "code",
   "execution_count": 22,
   "id": "0c06d604",
   "metadata": {},
   "outputs": [
    {
     "data": {
      "text/html": [
       "<div>\n",
       "<style scoped>\n",
       "    .dataframe tbody tr th:only-of-type {\n",
       "        vertical-align: middle;\n",
       "    }\n",
       "\n",
       "    .dataframe tbody tr th {\n",
       "        vertical-align: top;\n",
       "    }\n",
       "\n",
       "    .dataframe thead th {\n",
       "        text-align: right;\n",
       "    }\n",
       "</style>\n",
       "<table border=\"1\" class=\"dataframe\">\n",
       "  <thead>\n",
       "    <tr style=\"text-align: right;\">\n",
       "      <th></th>\n",
       "      <th>id</th>\n",
       "      <th>title</th>\n",
       "      <th>description</th>\n",
       "      <th>url</th>\n",
       "      <th>author</th>\n",
       "      <th>image</th>\n",
       "      <th>language</th>\n",
       "      <th>category</th>\n",
       "      <th>published</th>\n",
       "    </tr>\n",
       "  </thead>\n",
       "  <tbody>\n",
       "    <tr>\n",
       "      <th>0</th>\n",
       "      <td>5ea5fca5-604c-4f2b-8c23-34e28e9c2b20</td>\n",
       "      <td>Alonso's Leverkusen win first-ever Bundesliga ...</td>\n",
       "      <td>Bayer Leverkusen won the first Bundesliga titl...</td>\n",
       "      <td>https://www.espn.com/soccer/story/_/id/3985122...</td>\n",
       "      <td>ESPN</td>\n",
       "      <td>https://a1.espncdn.com/combiner/i?img=%2Fphoto...</td>\n",
       "      <td>en</td>\n",
       "      <td>[sports]</td>\n",
       "      <td>2024-04-14 18:34:42 +0000</td>\n",
       "    </tr>\n",
       "    <tr>\n",
       "      <th>1</th>\n",
       "      <td>14276597-60b1-43db-a6d5-53ca354f1533</td>\n",
       "      <td>Sources: Embiid out for precautionary measures</td>\n",
       "      <td>Joel Embiid was ruled out for the Sixers' regu...</td>\n",
       "      <td>https://www.espn.com/nba/story/_/id/39941510/7...</td>\n",
       "      <td>Tim Bontemps</td>\n",
       "      <td>https://a4.espncdn.com/combiner/i?img=%2Fphoto...</td>\n",
       "      <td>en</td>\n",
       "      <td>[sports]</td>\n",
       "      <td>2024-04-14 18:34:26 +0000</td>\n",
       "    </tr>\n",
       "    <tr>\n",
       "      <th>2</th>\n",
       "      <td>db1223ff-b40a-49ef-9ecf-dbb12a557f8c</td>\n",
       "      <td>Jaishankar speaks to Iranian EAM, seeks releas...</td>\n",
       "      <td>External Affairs Minister S Jaishankar on Sund...</td>\n",
       "      <td>https://www.business-standard.com/external-aff...</td>\n",
       "      <td>business-standard</td>\n",
       "      <td>None</td>\n",
       "      <td>en</td>\n",
       "      <td>[business]</td>\n",
       "      <td>2024-04-14 18:23:09 +0000</td>\n",
       "    </tr>\n",
       "    <tr>\n",
       "      <th>3</th>\n",
       "      <td>8da23281-b142-434d-849f-2d0aa9f26cf1</td>\n",
       "      <td>LIC sees 59% increase in value of investments ...</td>\n",
       "      <td>LIC, the state-owned insurance behemoth, has s...</td>\n",
       "      <td>https://www.business-standard.com/companies/ne...</td>\n",
       "      <td>business-standard</td>\n",
       "      <td>None</td>\n",
       "      <td>en</td>\n",
       "      <td>[business]</td>\n",
       "      <td>2024-04-14 18:21:06 +0000</td>\n",
       "    </tr>\n",
       "    <tr>\n",
       "      <th>4</th>\n",
       "      <td>8068be05-d7bc-4961-ad43-d9f5099c5be2</td>\n",
       "      <td>Army carries out field trials of anti-tank gui...</td>\n",
       "      <td>The Indian Army has successfully carried out f...</td>\n",
       "      <td>https://www.business-standard.com/external-aff...</td>\n",
       "      <td>business-standard</td>\n",
       "      <td>None</td>\n",
       "      <td>en</td>\n",
       "      <td>[business]</td>\n",
       "      <td>2024-04-14 18:19:23 +0000</td>\n",
       "    </tr>\n",
       "  </tbody>\n",
       "</table>\n",
       "</div>"
      ],
      "text/plain": [
       "                                     id  \\\n",
       "0  5ea5fca5-604c-4f2b-8c23-34e28e9c2b20   \n",
       "1  14276597-60b1-43db-a6d5-53ca354f1533   \n",
       "2  db1223ff-b40a-49ef-9ecf-dbb12a557f8c   \n",
       "3  8da23281-b142-434d-849f-2d0aa9f26cf1   \n",
       "4  8068be05-d7bc-4961-ad43-d9f5099c5be2   \n",
       "\n",
       "                                               title  \\\n",
       "0  Alonso's Leverkusen win first-ever Bundesliga ...   \n",
       "1     Sources: Embiid out for precautionary measures   \n",
       "2  Jaishankar speaks to Iranian EAM, seeks releas...   \n",
       "3  LIC sees 59% increase in value of investments ...   \n",
       "4  Army carries out field trials of anti-tank gui...   \n",
       "\n",
       "                                         description  \\\n",
       "0  Bayer Leverkusen won the first Bundesliga titl...   \n",
       "1  Joel Embiid was ruled out for the Sixers' regu...   \n",
       "2  External Affairs Minister S Jaishankar on Sund...   \n",
       "3  LIC, the state-owned insurance behemoth, has s...   \n",
       "4  The Indian Army has successfully carried out f...   \n",
       "\n",
       "                                                 url             author  \\\n",
       "0  https://www.espn.com/soccer/story/_/id/3985122...               ESPN   \n",
       "1  https://www.espn.com/nba/story/_/id/39941510/7...       Tim Bontemps   \n",
       "2  https://www.business-standard.com/external-aff...  business-standard   \n",
       "3  https://www.business-standard.com/companies/ne...  business-standard   \n",
       "4  https://www.business-standard.com/external-aff...  business-standard   \n",
       "\n",
       "                                               image language    category  \\\n",
       "0  https://a1.espncdn.com/combiner/i?img=%2Fphoto...       en    [sports]   \n",
       "1  https://a4.espncdn.com/combiner/i?img=%2Fphoto...       en    [sports]   \n",
       "2                                               None       en  [business]   \n",
       "3                                               None       en  [business]   \n",
       "4                                               None       en  [business]   \n",
       "\n",
       "                   published  \n",
       "0  2024-04-14 18:34:42 +0000  \n",
       "1  2024-04-14 18:34:26 +0000  \n",
       "2  2024-04-14 18:23:09 +0000  \n",
       "3  2024-04-14 18:21:06 +0000  \n",
       "4  2024-04-14 18:19:23 +0000  "
      ]
     },
     "execution_count": 22,
     "metadata": {},
     "output_type": "execute_result"
    }
   ],
   "source": [
    "df.head()"
   ]
  },
  {
   "cell_type": "code",
   "execution_count": 23,
   "id": "60d321bb",
   "metadata": {},
   "outputs": [
    {
     "data": {
      "text/plain": [
       "{'id': '3b2c23a3-de26-44ab-b213-ffd8c3a66233',\n",
       " 'title': 'Police say alleged meth dealer had drugs in hotel room',\n",
       " 'description': 'A 58-year-old alleged meth dealer is accused of having 15g of the drug in his hotel room along with cash believed to be unlawfully obtained.\\xa0',\n",
       " 'url': 'https://thewest.com.au/news/regional/police-say-alleged-meth-dealer-mark-douglas-cochrane-paton-had-drugs-in-hotel-room--c-14278306',\n",
       " 'author': 'Tegan Guthrie',\n",
       " 'image': 'https://images.thewest.com.au/publication/C-14278306/4f4a1640e8fbc03c4ded62ca4e3b17edce31a7d5-16x9-x0y209w4000h2250.jpg?imwidth=1200',\n",
       " 'language': 'en',\n",
       " 'category': ['general'],\n",
       " 'published': '2024-04-14 18:00:00 +0000'}"
      ]
     },
     "execution_count": 23,
     "metadata": {},
     "output_type": "execute_result"
    }
   ],
   "source": [
    "df.sample(1).to_dict(orient=\"records\")[0]"
   ]
  },
  {
   "cell_type": "code",
   "execution_count": 37,
   "id": "e598966f",
   "metadata": {},
   "outputs": [
    {
     "ename": "KeyboardInterrupt",
     "evalue": "",
     "output_type": "error",
     "traceback": [
      "\u001b[0;31m---------------------------------------------------------------------------\u001b[0m",
      "\u001b[0;31mKeyboardInterrupt\u001b[0m                         Traceback (most recent call last)",
      "Cell \u001b[0;32mIn[37], line 2\u001b[0m\n\u001b[1;32m      1\u001b[0m \u001b[38;5;28;01mwhile\u001b[39;00m \u001b[38;5;28;01mTrue\u001b[39;00m:\n\u001b[0;32m----> 2\u001b[0m     dict_news\u001b[38;5;241m=\u001b[39mdf\u001b[38;5;241m.\u001b[39msample(\u001b[38;5;241m1\u001b[39m)\u001b[38;5;241m.\u001b[39mto_dict(orient\u001b[38;5;241m=\u001b[39m\u001b[38;5;124m\"\u001b[39m\u001b[38;5;124mrecords\u001b[39m\u001b[38;5;124m\"\u001b[39m)[\u001b[38;5;241m0\u001b[39m]\n\u001b[1;32m      3\u001b[0m     producer\u001b[38;5;241m.\u001b[39msend(\u001b[38;5;124m'\u001b[39m\u001b[38;5;124mdemo_testing2\u001b[39m\u001b[38;5;124m'\u001b[39m,value\u001b[38;5;241m=\u001b[39mdict_news)\n",
      "File \u001b[0;32m/opt/homebrew/anaconda3/lib/python3.11/site-packages/pandas/core/frame.py:2055\u001b[0m, in \u001b[0;36mDataFrame.to_dict\u001b[0;34m(self, orient, into)\u001b[0m\n\u001b[1;32m   2051\u001b[0m \u001b[38;5;28;01melif\u001b[39;00m orient \u001b[38;5;241m==\u001b[39m \u001b[38;5;124m\"\u001b[39m\u001b[38;5;124mrecords\u001b[39m\u001b[38;5;124m\"\u001b[39m:\n\u001b[1;32m   2052\u001b[0m     columns \u001b[38;5;241m=\u001b[39m \u001b[38;5;28mself\u001b[39m\u001b[38;5;241m.\u001b[39mcolumns\u001b[38;5;241m.\u001b[39mtolist()\n\u001b[1;32m   2053\u001b[0m     rows \u001b[38;5;241m=\u001b[39m (\n\u001b[1;32m   2054\u001b[0m         \u001b[38;5;28mdict\u001b[39m(\u001b[38;5;28mzip\u001b[39m(columns, row))\n\u001b[0;32m-> 2055\u001b[0m         \u001b[38;5;28;01mfor\u001b[39;00m row \u001b[38;5;129;01min\u001b[39;00m \u001b[38;5;28mself\u001b[39m\u001b[38;5;241m.\u001b[39mitertuples(index\u001b[38;5;241m=\u001b[39m\u001b[38;5;28;01mFalse\u001b[39;00m, name\u001b[38;5;241m=\u001b[39m\u001b[38;5;28;01mNone\u001b[39;00m)\n\u001b[1;32m   2056\u001b[0m     )\n\u001b[1;32m   2057\u001b[0m     \u001b[38;5;28;01mreturn\u001b[39;00m [\n\u001b[1;32m   2058\u001b[0m         into_c((k, maybe_box_native(v)) \u001b[38;5;28;01mfor\u001b[39;00m k, v \u001b[38;5;129;01min\u001b[39;00m row\u001b[38;5;241m.\u001b[39mitems()) \u001b[38;5;28;01mfor\u001b[39;00m row \u001b[38;5;129;01min\u001b[39;00m rows\n\u001b[1;32m   2059\u001b[0m     ]\n\u001b[1;32m   2061\u001b[0m \u001b[38;5;28;01melif\u001b[39;00m orient \u001b[38;5;241m==\u001b[39m \u001b[38;5;124m\"\u001b[39m\u001b[38;5;124mindex\u001b[39m\u001b[38;5;124m\"\u001b[39m:\n",
      "File \u001b[0;32m/opt/homebrew/anaconda3/lib/python3.11/site-packages/pandas/core/frame.py:1485\u001b[0m, in \u001b[0;36mDataFrame.itertuples\u001b[0;34m(self, index, name)\u001b[0m\n\u001b[1;32m   1482\u001b[0m     fields\u001b[38;5;241m.\u001b[39minsert(\u001b[38;5;241m0\u001b[39m, \u001b[38;5;124m\"\u001b[39m\u001b[38;5;124mIndex\u001b[39m\u001b[38;5;124m\"\u001b[39m)\n\u001b[1;32m   1484\u001b[0m \u001b[38;5;66;03m# use integer indexing because of possible duplicate column names\u001b[39;00m\n\u001b[0;32m-> 1485\u001b[0m arrays\u001b[38;5;241m.\u001b[39mextend(\u001b[38;5;28mself\u001b[39m\u001b[38;5;241m.\u001b[39miloc[:, k] \u001b[38;5;28;01mfor\u001b[39;00m k \u001b[38;5;129;01min\u001b[39;00m \u001b[38;5;28mrange\u001b[39m(\u001b[38;5;28mlen\u001b[39m(\u001b[38;5;28mself\u001b[39m\u001b[38;5;241m.\u001b[39mcolumns)))\n\u001b[1;32m   1487\u001b[0m \u001b[38;5;28;01mif\u001b[39;00m name \u001b[38;5;129;01mis\u001b[39;00m \u001b[38;5;129;01mnot\u001b[39;00m \u001b[38;5;28;01mNone\u001b[39;00m:\n\u001b[1;32m   1488\u001b[0m     \u001b[38;5;66;03m# https://github.com/python/mypy/issues/9046\u001b[39;00m\n\u001b[1;32m   1489\u001b[0m     \u001b[38;5;66;03m# error: namedtuple() expects a string literal as the first argument\u001b[39;00m\n\u001b[1;32m   1490\u001b[0m     itertuple \u001b[38;5;241m=\u001b[39m collections\u001b[38;5;241m.\u001b[39mnamedtuple(  \u001b[38;5;66;03m# type: ignore[misc]\u001b[39;00m\n\u001b[1;32m   1491\u001b[0m         name, fields, rename\u001b[38;5;241m=\u001b[39m\u001b[38;5;28;01mTrue\u001b[39;00m\n\u001b[1;32m   1492\u001b[0m     )\n",
      "File \u001b[0;32m/opt/homebrew/anaconda3/lib/python3.11/site-packages/pandas/core/frame.py:1485\u001b[0m, in \u001b[0;36m<genexpr>\u001b[0;34m(.0)\u001b[0m\n\u001b[1;32m   1482\u001b[0m     fields\u001b[38;5;241m.\u001b[39minsert(\u001b[38;5;241m0\u001b[39m, \u001b[38;5;124m\"\u001b[39m\u001b[38;5;124mIndex\u001b[39m\u001b[38;5;124m\"\u001b[39m)\n\u001b[1;32m   1484\u001b[0m \u001b[38;5;66;03m# use integer indexing because of possible duplicate column names\u001b[39;00m\n\u001b[0;32m-> 1485\u001b[0m arrays\u001b[38;5;241m.\u001b[39mextend(\u001b[38;5;28mself\u001b[39m\u001b[38;5;241m.\u001b[39miloc[:, k] \u001b[38;5;28;01mfor\u001b[39;00m k \u001b[38;5;129;01min\u001b[39;00m \u001b[38;5;28mrange\u001b[39m(\u001b[38;5;28mlen\u001b[39m(\u001b[38;5;28mself\u001b[39m\u001b[38;5;241m.\u001b[39mcolumns)))\n\u001b[1;32m   1487\u001b[0m \u001b[38;5;28;01mif\u001b[39;00m name \u001b[38;5;129;01mis\u001b[39;00m \u001b[38;5;129;01mnot\u001b[39;00m \u001b[38;5;28;01mNone\u001b[39;00m:\n\u001b[1;32m   1488\u001b[0m     \u001b[38;5;66;03m# https://github.com/python/mypy/issues/9046\u001b[39;00m\n\u001b[1;32m   1489\u001b[0m     \u001b[38;5;66;03m# error: namedtuple() expects a string literal as the first argument\u001b[39;00m\n\u001b[1;32m   1490\u001b[0m     itertuple \u001b[38;5;241m=\u001b[39m collections\u001b[38;5;241m.\u001b[39mnamedtuple(  \u001b[38;5;66;03m# type: ignore[misc]\u001b[39;00m\n\u001b[1;32m   1491\u001b[0m         name, fields, rename\u001b[38;5;241m=\u001b[39m\u001b[38;5;28;01mTrue\u001b[39;00m\n\u001b[1;32m   1492\u001b[0m     )\n",
      "File \u001b[0;32m/opt/homebrew/anaconda3/lib/python3.11/site-packages/pandas/core/indexing.py:1067\u001b[0m, in \u001b[0;36m_LocationIndexer.__getitem__\u001b[0;34m(self, key)\u001b[0m\n\u001b[1;32m   1065\u001b[0m     \u001b[38;5;28;01mif\u001b[39;00m \u001b[38;5;28mself\u001b[39m\u001b[38;5;241m.\u001b[39m_is_scalar_access(key):\n\u001b[1;32m   1066\u001b[0m         \u001b[38;5;28;01mreturn\u001b[39;00m \u001b[38;5;28mself\u001b[39m\u001b[38;5;241m.\u001b[39mobj\u001b[38;5;241m.\u001b[39m_get_value(\u001b[38;5;241m*\u001b[39mkey, takeable\u001b[38;5;241m=\u001b[39m\u001b[38;5;28mself\u001b[39m\u001b[38;5;241m.\u001b[39m_takeable)\n\u001b[0;32m-> 1067\u001b[0m     \u001b[38;5;28;01mreturn\u001b[39;00m \u001b[38;5;28mself\u001b[39m\u001b[38;5;241m.\u001b[39m_getitem_tuple(key)\n\u001b[1;32m   1068\u001b[0m \u001b[38;5;28;01melse\u001b[39;00m:\n\u001b[1;32m   1069\u001b[0m     \u001b[38;5;66;03m# we by definition only have the 0th axis\u001b[39;00m\n\u001b[1;32m   1070\u001b[0m     axis \u001b[38;5;241m=\u001b[39m \u001b[38;5;28mself\u001b[39m\u001b[38;5;241m.\u001b[39maxis \u001b[38;5;129;01mor\u001b[39;00m \u001b[38;5;241m0\u001b[39m\n",
      "File \u001b[0;32m/opt/homebrew/anaconda3/lib/python3.11/site-packages/pandas/core/indexing.py:1565\u001b[0m, in \u001b[0;36m_iLocIndexer._getitem_tuple\u001b[0;34m(self, tup)\u001b[0m\n\u001b[1;32m   1563\u001b[0m tup \u001b[38;5;241m=\u001b[39m \u001b[38;5;28mself\u001b[39m\u001b[38;5;241m.\u001b[39m_validate_tuple_indexer(tup)\n\u001b[1;32m   1564\u001b[0m \u001b[38;5;28;01mwith\u001b[39;00m suppress(IndexingError):\n\u001b[0;32m-> 1565\u001b[0m     \u001b[38;5;28;01mreturn\u001b[39;00m \u001b[38;5;28mself\u001b[39m\u001b[38;5;241m.\u001b[39m_getitem_lowerdim(tup)\n\u001b[1;32m   1567\u001b[0m \u001b[38;5;28;01mreturn\u001b[39;00m \u001b[38;5;28mself\u001b[39m\u001b[38;5;241m.\u001b[39m_getitem_tuple_same_dim(tup)\n",
      "File \u001b[0;32m/opt/homebrew/anaconda3/lib/python3.11/site-packages/pandas/core/indexing.py:967\u001b[0m, in \u001b[0;36m_LocationIndexer._getitem_lowerdim\u001b[0;34m(self, tup)\u001b[0m\n\u001b[1;32m    963\u001b[0m \u001b[38;5;28;01mfor\u001b[39;00m i, key \u001b[38;5;129;01min\u001b[39;00m \u001b[38;5;28menumerate\u001b[39m(tup):\n\u001b[1;32m    964\u001b[0m     \u001b[38;5;28;01mif\u001b[39;00m is_label_like(key):\n\u001b[1;32m    965\u001b[0m         \u001b[38;5;66;03m# We don't need to check for tuples here because those are\u001b[39;00m\n\u001b[1;32m    966\u001b[0m         \u001b[38;5;66;03m#  caught by the _is_nested_tuple_indexer check above.\u001b[39;00m\n\u001b[0;32m--> 967\u001b[0m         section \u001b[38;5;241m=\u001b[39m \u001b[38;5;28mself\u001b[39m\u001b[38;5;241m.\u001b[39m_getitem_axis(key, axis\u001b[38;5;241m=\u001b[39mi)\n\u001b[1;32m    969\u001b[0m         \u001b[38;5;66;03m# We should never have a scalar section here, because\u001b[39;00m\n\u001b[1;32m    970\u001b[0m         \u001b[38;5;66;03m#  _getitem_lowerdim is only called after a check for\u001b[39;00m\n\u001b[1;32m    971\u001b[0m         \u001b[38;5;66;03m#  is_scalar_access, which that would be.\u001b[39;00m\n\u001b[1;32m    972\u001b[0m         \u001b[38;5;28;01mif\u001b[39;00m section\u001b[38;5;241m.\u001b[39mndim \u001b[38;5;241m==\u001b[39m \u001b[38;5;28mself\u001b[39m\u001b[38;5;241m.\u001b[39mndim:\n\u001b[1;32m    973\u001b[0m             \u001b[38;5;66;03m# we're in the middle of slicing through a MultiIndex\u001b[39;00m\n\u001b[1;32m    974\u001b[0m             \u001b[38;5;66;03m# revise the key wrt to `section` by inserting an _NS\u001b[39;00m\n",
      "File \u001b[0;32m/opt/homebrew/anaconda3/lib/python3.11/site-packages/pandas/core/indexing.py:1627\u001b[0m, in \u001b[0;36m_iLocIndexer._getitem_axis\u001b[0;34m(self, key, axis)\u001b[0m\n\u001b[1;32m   1624\u001b[0m \u001b[38;5;66;03m# validate the location\u001b[39;00m\n\u001b[1;32m   1625\u001b[0m \u001b[38;5;28mself\u001b[39m\u001b[38;5;241m.\u001b[39m_validate_integer(key, axis)\n\u001b[0;32m-> 1627\u001b[0m \u001b[38;5;28;01mreturn\u001b[39;00m \u001b[38;5;28mself\u001b[39m\u001b[38;5;241m.\u001b[39mobj\u001b[38;5;241m.\u001b[39m_ixs(key, axis\u001b[38;5;241m=\u001b[39maxis)\n",
      "File \u001b[0;32m/opt/homebrew/anaconda3/lib/python3.11/site-packages/pandas/core/frame.py:3730\u001b[0m, in \u001b[0;36mDataFrame._ixs\u001b[0;34m(self, i, axis)\u001b[0m\n\u001b[1;32m   3726\u001b[0m \u001b[38;5;66;03m# icol\u001b[39;00m\n\u001b[1;32m   3727\u001b[0m \u001b[38;5;28;01melse\u001b[39;00m:\n\u001b[1;32m   3728\u001b[0m     label \u001b[38;5;241m=\u001b[39m \u001b[38;5;28mself\u001b[39m\u001b[38;5;241m.\u001b[39mcolumns[i]\n\u001b[0;32m-> 3730\u001b[0m     col_mgr \u001b[38;5;241m=\u001b[39m \u001b[38;5;28mself\u001b[39m\u001b[38;5;241m.\u001b[39m_mgr\u001b[38;5;241m.\u001b[39miget(i)\n\u001b[1;32m   3731\u001b[0m     result \u001b[38;5;241m=\u001b[39m \u001b[38;5;28mself\u001b[39m\u001b[38;5;241m.\u001b[39m_box_col_values(col_mgr, i)\n\u001b[1;32m   3733\u001b[0m     \u001b[38;5;66;03m# this is a cached value, mark it so\u001b[39;00m\n",
      "File \u001b[0;32m/opt/homebrew/anaconda3/lib/python3.11/site-packages/pandas/core/internals/managers.py:1137\u001b[0m, in \u001b[0;36mBlockManager.iget\u001b[0;34m(self, i, track_ref)\u001b[0m\n\u001b[1;32m   1134\u001b[0m values \u001b[38;5;241m=\u001b[39m block\u001b[38;5;241m.\u001b[39miget(\u001b[38;5;28mself\u001b[39m\u001b[38;5;241m.\u001b[39mblklocs[i])\n\u001b[1;32m   1136\u001b[0m \u001b[38;5;66;03m# shortcut for select a single-dim from a 2-dim BM\u001b[39;00m\n\u001b[0;32m-> 1137\u001b[0m bp \u001b[38;5;241m=\u001b[39m BlockPlacement(\u001b[38;5;28mslice\u001b[39m(\u001b[38;5;241m0\u001b[39m, \u001b[38;5;28mlen\u001b[39m(values)))\n\u001b[1;32m   1138\u001b[0m nb \u001b[38;5;241m=\u001b[39m \u001b[38;5;28mtype\u001b[39m(block)(values, placement\u001b[38;5;241m=\u001b[39mbp, ndim\u001b[38;5;241m=\u001b[39m\u001b[38;5;241m1\u001b[39m)\n\u001b[1;32m   1139\u001b[0m ref \u001b[38;5;241m=\u001b[39m weakref\u001b[38;5;241m.\u001b[39mref(block) \u001b[38;5;28;01mif\u001b[39;00m track_ref \u001b[38;5;28;01melse\u001b[39;00m \u001b[38;5;28;01mNone\u001b[39;00m\n",
      "\u001b[0;31mKeyboardInterrupt\u001b[0m: "
     ]
    }
   ],
   "source": [
    "while True:\n",
    "    dict_news=df.sample(1).to_dict(orient=\"records\")[0]\n",
    "    producer.send('demo_testing2',value=dict_news)"
   ]
  },
  {
   "cell_type": "code",
   "execution_count": 38,
   "id": "12853f0c",
   "metadata": {},
   "outputs": [],
   "source": [
    "producer.flush()"
   ]
  },
  {
   "cell_type": "code",
   "execution_count": null,
   "id": "820d090e",
   "metadata": {},
   "outputs": [],
   "source": []
  }
 ],
 "metadata": {
  "kernelspec": {
   "display_name": "Python 3 (ipykernel)",
   "language": "python",
   "name": "python3"
  },
  "language_info": {
   "codemirror_mode": {
    "name": "ipython",
    "version": 3
   },
   "file_extension": ".py",
   "mimetype": "text/x-python",
   "name": "python",
   "nbconvert_exporter": "python",
   "pygments_lexer": "ipython3",
   "version": "3.11.4"
  }
 },
 "nbformat": 4,
 "nbformat_minor": 5
}
